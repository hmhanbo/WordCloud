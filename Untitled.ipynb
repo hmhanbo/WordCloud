{
 "cells": [
  {
   "cell_type": "code",
   "execution_count": 14,
   "metadata": {},
   "outputs": [
    {
     "data": {
      "text/plain": [
       "'专户 借 1600w 押cd，公募 借 2000w 押aa+\\n出隔夜-7D 680W'"
      ]
     },
     "execution_count": 14,
     "metadata": {},
     "output_type": "execute_result"
    }
   ],
   "source": [
    "import re\n",
    "s = '''【活跃】博时基金-乔馨峤qiáo(488133561) 13:46:06\n",
    "专户 借 1600w 押cd，公募 借 2000w 押aa+\n",
    "【唠叨】国海富兰克林基金-周佳艺<zhoujiayi0506@yahoo.com.cn> 14:21:32\n",
    "出隔夜-7D 680W'''\n",
    "pat = \"【.+】.+\\s\\d\\d:\\d\\d:\\d\\d\\s\"\n",
    "m = re.sub(pat,\"\",s)\n",
    "m"
   ]
  },
  {
   "cell_type": "code",
   "execution_count": null,
   "metadata": {},
   "outputs": [],
   "source": []
  }
 ],
 "metadata": {
  "kernelspec": {
   "display_name": "Python 3",
   "language": "python",
   "name": "python3"
  },
  "language_info": {
   "codemirror_mode": {
    "name": "ipython",
    "version": 3
   },
   "file_extension": ".py",
   "mimetype": "text/x-python",
   "name": "python",
   "nbconvert_exporter": "python",
   "pygments_lexer": "ipython3",
   "version": "3.7.1"
  }
 },
 "nbformat": 4,
 "nbformat_minor": 2
}
